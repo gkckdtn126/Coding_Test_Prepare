{
 "cells": [
  {
   "cell_type": "markdown",
   "id": "d5f27907",
   "metadata": {},
   "source": [
    "# 구구단"
   ]
  },
  {
   "cell_type": "code",
   "execution_count": null,
   "id": "b0e9f304",
   "metadata": {},
   "outputs": [],
   "source": [
    "a = int(input())\n",
    "for i in range(1,10):\n",
    "    print(\"{} * {} = {}\".format(a,i,a*i))"
   ]
  },
  {
   "cell_type": "markdown",
   "id": "06f646dc",
   "metadata": {},
   "source": [
    "# A+B - 3"
   ]
  },
  {
   "cell_type": "code",
   "execution_count": null,
   "id": "c8cefb82",
   "metadata": {},
   "outputs": [],
   "source": [
    "T = int(input())\n",
    "for i in range(0,T):\n",
    "    A,B = map(int,input().split())\n",
    "    print(A+B)"
   ]
  },
  {
   "cell_type": "markdown",
   "id": "d105ec63",
   "metadata": {},
   "source": [
    "# 합"
   ]
  },
  {
   "cell_type": "code",
   "execution_count": null,
   "id": "2b253305",
   "metadata": {},
   "outputs": [],
   "source": [
    "t = 0\n",
    "n = int(input())\n",
    "for i in range(1,n+1):\n",
    "    t = t+i\n",
    "print(t)"
   ]
  },
  {
   "cell_type": "markdown",
   "id": "0c45c06a",
   "metadata": {},
   "source": [
    "# 영수증"
   ]
  },
  {
   "cell_type": "code",
   "execution_count": 2,
   "id": "efd386e7",
   "metadata": {},
   "outputs": [
    {
     "name": "stdout",
     "output_type": "stream",
     "text": [
      "250000\n",
      "4\n",
      "20000 5\n",
      "30000 2\n",
      "10000 6\n",
      "5000 8\n",
      "No\n"
     ]
    }
   ],
   "source": [
    "x = int(input())\n",
    "n = int(input())\n",
    "total_price = 0\n",
    "for i in range(n):\n",
    "    a,b = list(map(int, input().split()))\n",
    "    price = a*b\n",
    "    total_price += price\n",
    "if total_price == x:\n",
    "    print(\"Yes\")\n",
    "else:\n",
    "    print(\"No\")\n",
    "    "
   ]
  },
  {
   "cell_type": "markdown",
   "id": "df08b85b",
   "metadata": {},
   "source": [
    "# 빠른 A+B"
   ]
  },
  {
   "cell_type": "code",
   "execution_count": null,
   "id": "eacd2f64",
   "metadata": {},
   "outputs": [],
   "source": [
    "import sys\n",
    "inp = int(input())\n",
    "for i in range(inp):\n",
    "    a, b = map(int, sys.stdin.readline().split())\n",
    "    print(a + b)"
   ]
  },
  {
   "cell_type": "markdown",
   "id": "abbc7f67",
   "metadata": {},
   "source": [
    "# A+B - 7"
   ]
  },
  {
   "cell_type": "code",
   "execution_count": null,
   "id": "3c55bda9",
   "metadata": {},
   "outputs": [],
   "source": [
    "T = int(input())\n",
    "for i in range(1,T+1):\n",
    "    a,b = map(int,input().split())\n",
    "    print(\"Case #{}: {}\".format(i,a+b))"
   ]
  },
  {
   "cell_type": "markdown",
   "id": "097031da",
   "metadata": {},
   "source": [
    "# A+B - 8"
   ]
  },
  {
   "cell_type": "code",
   "execution_count": null,
   "id": "08553665",
   "metadata": {},
   "outputs": [],
   "source": [
    "T = int(input())\n",
    "for i in range(1,T+1):\n",
    "    a,b = map(int,input().split())\n",
    "    print(\"Case #{}: {} + {} = {}\".format(i,a,b,a+b))"
   ]
  },
  {
   "cell_type": "markdown",
   "id": "253989dc",
   "metadata": {},
   "source": [
    "# 별 찍기-1"
   ]
  },
  {
   "cell_type": "code",
   "execution_count": null,
   "id": "9fd2803e",
   "metadata": {},
   "outputs": [],
   "source": [
    "N = int(input())\n",
    "for i in range(1,N+1):\n",
    "    print(\"*\"*i)"
   ]
  },
  {
   "cell_type": "markdown",
   "id": "b38c3448",
   "metadata": {},
   "source": [
    "# 별 찍기-2"
   ]
  },
  {
   "cell_type": "code",
   "execution_count": null,
   "id": "04bcbf5a",
   "metadata": {},
   "outputs": [],
   "source": [
    "N = int(input())\n",
    "for i in range(1,N+1):\n",
    "    print(\" \"*(N-i)+\"*\"*i)"
   ]
  },
  {
   "cell_type": "markdown",
   "id": "1344d773",
   "metadata": {},
   "source": [
    "# A+B - 5"
   ]
  },
  {
   "cell_type": "code",
   "execution_count": null,
   "id": "d015a86b",
   "metadata": {},
   "outputs": [],
   "source": [
    "while True:\n",
    "    a,b = map(int, input().split())\n",
    "    if a == 0 and b == 0:\n",
    "        break\n",
    "    print(a+b)"
   ]
  },
  {
   "cell_type": "markdown",
   "id": "f679ff54",
   "metadata": {},
   "source": [
    "# A+B -4"
   ]
  },
  {
   "cell_type": "code",
   "execution_count": 3,
   "id": "575eaca2",
   "metadata": {},
   "outputs": [
    {
     "name": "stdout",
     "output_type": "stream",
     "text": [
      "1 1\n",
      "2\n",
      "2 3\n",
      "5\n",
      "3 4\n",
      "7\n",
      "9 8\n",
      "17\n",
      "1\n"
     ]
    }
   ],
   "source": [
    "while True:\n",
    "    try:\n",
    "        a,b = map(int, input().split())\n",
    "        print(a+b)\n",
    "    except:\n",
    "        break"
   ]
  },
  {
   "cell_type": "markdown",
   "id": "b02f24c5",
   "metadata": {},
   "source": [
    "# 더하기 사이클 "
   ]
  },
  {
   "cell_type": "code",
   "execution_count": 5,
   "id": "215c426f",
   "metadata": {},
   "outputs": [
    {
     "name": "stdout",
     "output_type": "stream",
     "text": [
      "26\n",
      "2\n"
     ]
    }
   ],
   "source": [
    "a = str(input())\n",
    "print(a[0])"
   ]
  },
  {
   "cell_type": "code",
   "execution_count": 18,
   "id": "a356b247",
   "metadata": {},
   "outputs": [
    {
     "name": "stdout",
     "output_type": "stream",
     "text": [
      "0\n",
      "1\n"
     ]
    }
   ],
   "source": [
    "a = str(input())\n",
    "original = a\n",
    "count = 0\n",
    "while True:\n",
    "    if int(a) < 10:\n",
    "        sum_num = a\n",
    "    else:\n",
    "        sum_num = int(a[0])+int(a[1])\n",
    "    sum_num = str(sum_num)\n",
    "    new = a[-1]+sum_num[-1]\n",
    "    a = new\n",
    "    count += 1\n",
    "    if int(new) == int(original):\n",
    "        print(count)\n",
    "        break"
   ]
  },
  {
   "cell_type": "code",
   "execution_count": null,
   "id": "256f8c2e",
   "metadata": {},
   "outputs": [],
   "source": []
  }
 ],
 "metadata": {
  "kernelspec": {
   "display_name": "Python 3 (ipykernel)",
   "language": "python",
   "name": "python3"
  },
  "language_info": {
   "codemirror_mode": {
    "name": "ipython",
    "version": 3
   },
   "file_extension": ".py",
   "mimetype": "text/x-python",
   "name": "python",
   "nbconvert_exporter": "python",
   "pygments_lexer": "ipython3",
   "version": "3.9.13"
  }
 },
 "nbformat": 4,
 "nbformat_minor": 5
}
