{
 "cells": [
  {
   "cell_type": "code",
   "execution_count": null,
   "id": "9de90831",
   "metadata": {},
   "outputs": [],
   "source": [
    "'''\n",
    "문제 : 개수 세기 \n",
    "\n",
    "문제 설명\n",
    " 총 N개의 정수가 주어졌을 때, 정수 v가 몇 개 인지 구하는 프로그램을 작성 \n",
    " \n",
    "풀이 시간 : 총 : 5 mins\n",
    "'''"
   ]
  },
  {
   "cell_type": "code",
   "execution_count": 7,
   "id": "ca1b325e",
   "metadata": {},
   "outputs": [
    {
     "name": "stdout",
     "output_type": "stream",
     "text": [
      "11\n",
      "1 4 1 2 4 2 4 2 3 4 4 \n",
      "2\n"
     ]
    }
   ],
   "source": [
    "N = int(input())\n",
    "N_list = list(map(int, input().split()))\n",
    "v = int(input())"
   ]
  },
  {
   "cell_type": "code",
   "execution_count": 8,
   "id": "4e0ea4ce",
   "metadata": {},
   "outputs": [
    {
     "name": "stdout",
     "output_type": "stream",
     "text": [
      "3\n"
     ]
    }
   ],
   "source": [
    "# 풀이 1\n",
    "print(N_list.count(v))"
   ]
  },
  {
   "cell_type": "code",
   "execution_count": 11,
   "id": "941650e8",
   "metadata": {},
   "outputs": [
    {
     "name": "stdout",
     "output_type": "stream",
     "text": [
      "3\n"
     ]
    }
   ],
   "source": [
    "# 풀이 2 \n",
    "cnt_v = [1 for num in N_list if num == v]\n",
    "print(len(cnt_v))"
   ]
  },
  {
   "cell_type": "code",
   "execution_count": null,
   "id": "f9a4d7ce",
   "metadata": {},
   "outputs": [],
   "source": [
    "'''\n",
    "X보다 작은 수 \n",
    "\n",
    "문제 설명 \n",
    " 정수 N개로 이루어진 수열 A와 정수 X가 주어진다. 이때, A에서 X보다 작은 수를 모두 출력하는 프로그램을 작성하시오.\n",
    " \n",
    "풀이 시간 : 총 10 mins\n",
    "\n",
    "'''"
   ]
  },
  {
   "cell_type": "code",
   "execution_count": 21,
   "id": "321fc2c5",
   "metadata": {},
   "outputs": [
    {
     "name": "stdout",
     "output_type": "stream",
     "text": [
      "10 5\n",
      "1 10 4 9 2 3 8 5 7 6\n"
     ]
    }
   ],
   "source": [
    "N , X = map(int, input().split())\n",
    "A = list(map(int, input().split()))"
   ]
  },
  {
   "cell_type": "code",
   "execution_count": 29,
   "id": "b8d5a3f5",
   "metadata": {},
   "outputs": [
    {
     "name": "stdout",
     "output_type": "stream",
     "text": [
      "1 4 2 3 \n"
     ]
    }
   ],
   "source": [
    "# 풀이 1)\n",
    "answer = ''\n",
    "for num in range(N):\n",
    "    if A[num] < X:\n",
    "        answer += str(A[num]) + ' '\n",
    "        \n",
    "print(answer)"
   ]
  },
  {
   "cell_type": "code",
   "execution_count": null,
   "id": "d20d6857",
   "metadata": {},
   "outputs": [],
   "source": [
    "'''\n",
    "최소, 최대 \n",
    "\n",
    "문제 설명 \n",
    " N개의 정수가 주어진다. 이때, 최솟값과 최댓값을 구하는 프로그램을 작성하시오. \n",
    " \n",
    "풀이 시간 : 총 5 mins\n",
    "'''"
   ]
  },
  {
   "cell_type": "code",
   "execution_count": 30,
   "id": "5989c751",
   "metadata": {},
   "outputs": [
    {
     "name": "stdout",
     "output_type": "stream",
     "text": [
      "5\n",
      "20 10 35 30 7\n"
     ]
    }
   ],
   "source": [
    "N = int(input())\n",
    "x = list(map(int, input().split()))"
   ]
  },
  {
   "cell_type": "code",
   "execution_count": 31,
   "id": "cfb1eef4",
   "metadata": {},
   "outputs": [
    {
     "name": "stdout",
     "output_type": "stream",
     "text": [
      "7 35\n"
     ]
    }
   ],
   "source": [
    "# 풀이 1) \n",
    "\n",
    "min = 1000000\n",
    "max = -1000000\n",
    "for n in range(N):\n",
    "    if x[n] < min:\n",
    "        min = x[n]\n",
    "    if x[n] > max:\n",
    "        max = x[n]\n",
    "        \n",
    "print(min, max)"
   ]
  },
  {
   "cell_type": "code",
   "execution_count": 37,
   "id": "5c585a94",
   "metadata": {},
   "outputs": [],
   "source": [
    "# 풀이 2) \n",
    "\n",
    "# print(min(x), max(x))"
   ]
  },
  {
   "cell_type": "code",
   "execution_count": null,
   "id": "2ecd3bc9",
   "metadata": {},
   "outputs": [],
   "source": [
    "'''\n",
    "최댓값 \n",
    "\n",
    "문제 설명 \n",
    "9개의 서로 다른 자연수가 주어질 때, 이들 중 최댓값을 찾고 그 최댓값이 몇 번째 수인지를 구하는 프로그램을 작성하시오.\n",
    "\n",
    "풀이 시간 : 총 5 mins\n",
    "\n",
    "'''"
   ]
  },
  {
   "cell_type": "code",
   "execution_count": 49,
   "id": "45f68890",
   "metadata": {},
   "outputs": [
    {
     "name": "stdout",
     "output_type": "stream",
     "text": [
      "3\n",
      "29\n",
      "38\n",
      "12\n",
      "57\n",
      "74\n",
      "40\n",
      "85\n",
      "61\n"
     ]
    },
    {
     "ename": "TypeError",
     "evalue": "'int' object is not callable",
     "output_type": "error",
     "traceback": [
      "\u001b[1;31m---------------------------------------------------------------------------\u001b[0m",
      "\u001b[1;31mTypeError\u001b[0m                                 Traceback (most recent call last)",
      "Input \u001b[1;32mIn [49]\u001b[0m, in \u001b[0;36m<cell line: 3>\u001b[1;34m()\u001b[0m\n\u001b[0;32m      1\u001b[0m numbers \u001b[38;5;241m=\u001b[39m [\u001b[38;5;28mint\u001b[39m(\u001b[38;5;28minput\u001b[39m()) \u001b[38;5;28;01mfor\u001b[39;00m _ \u001b[38;5;129;01min\u001b[39;00m \u001b[38;5;28mrange\u001b[39m(\u001b[38;5;241m9\u001b[39m)]\n\u001b[1;32m----> 3\u001b[0m \u001b[38;5;28mprint\u001b[39m(\u001b[38;5;28;43mmax\u001b[39;49m\u001b[43m(\u001b[49m\u001b[43mnumbers\u001b[49m\u001b[43m)\u001b[49m)\n\u001b[0;32m      4\u001b[0m \u001b[38;5;28mprint\u001b[39m(numbers\u001b[38;5;241m.\u001b[39mindex(\u001b[38;5;28mmax\u001b[39m(numbers))\u001b[38;5;241m+\u001b[39m\u001b[38;5;241m1\u001b[39m)\n",
      "\u001b[1;31mTypeError\u001b[0m: 'int' object is not callable"
     ]
    }
   ],
   "source": [
    "numbers = [int(input()) for _ in range(9)]\n",
    "\n",
    "print(max(numbers))\n",
    "print(numbers.index(max(numbers))+1)"
   ]
  },
  {
   "cell_type": "code",
   "execution_count": null,
   "id": "0551804a",
   "metadata": {},
   "outputs": [],
   "source": [
    "'''\n",
    "과제 안 내신 분?\n",
    "\n",
    "문제 설명 \n",
    "\n",
    "x대학 m교수님은 프로그래밍 수업을 맡고 있다. 교실엔 학생이 30명이 있는데, 학생 명부엔 각 학생별로 1번부터 30번까지 출석번호가 붙어있다.\n",
    "교수님이 내준 특별과제를 28명이 제출했는데, 그 중에서 제출 안한 학생 2명의 출석 번호를 구하는 프로그램을 작성하시오. \n",
    "\n",
    "풀이 시간 : 총 10 mins \n",
    "'''"
   ]
  },
  {
   "cell_type": "code",
   "execution_count": null,
   "id": "3ca1f566",
   "metadata": {},
   "outputs": [],
   "source": [
    "numbers = [int(input()) for _ in range(30)]"
   ]
  },
  {
   "cell_type": "code",
   "execution_count": 50,
   "id": "7b2bdf9c",
   "metadata": {},
   "outputs": [
    {
     "name": "stdout",
     "output_type": "stream",
     "text": [
      "3 1 4 5 7 9 6 10 11 12 13 14 15 16 17 18 19 20 21 22 23 24 25 26 27 28 29 30\n"
     ]
    }
   ],
   "source": [
    "numbers = list(map(int, input().split()))"
   ]
  },
  {
   "cell_type": "code",
   "execution_count": 57,
   "id": "52c22d03",
   "metadata": {},
   "outputs": [
    {
     "name": "stdout",
     "output_type": "stream",
     "text": [
      "2\n",
      "8\n"
     ]
    }
   ],
   "source": [
    "# 풀이1 ) 런타임 에러 \n",
    "answer = []\n",
    "for n in range(30):\n",
    "    if n+1 not in numbers:\n",
    "        answer.append(n+1)\n",
    "\n",
    "print(answer[0])\n",
    "print(answer[1])"
   ]
  },
  {
   "cell_type": "code",
   "execution_count": 58,
   "id": "01146931",
   "metadata": {},
   "outputs": [
    {
     "name": "stdout",
     "output_type": "stream",
     "text": [
      "3\n",
      "1\n",
      "4\n",
      "5\n",
      "7\n",
      "9\n",
      "6\n",
      "10\n",
      "11\n",
      "12\n",
      "13\n",
      "14\n",
      "15\n",
      "16\n",
      "17\n",
      "18\n",
      "19\n",
      "20\n",
      "21\n",
      "22\n",
      "23\n",
      "24\n",
      "25\n",
      "26\n",
      "27\n",
      "28\n",
      "29\n",
      "30\n"
     ]
    },
    {
     "ename": "TypeError",
     "evalue": "'int' object is not callable",
     "output_type": "error",
     "traceback": [
      "\u001b[1;31m---------------------------------------------------------------------------\u001b[0m",
      "\u001b[1;31mTypeError\u001b[0m                                 Traceback (most recent call last)",
      "Input \u001b[1;32mIn [58]\u001b[0m, in \u001b[0;36m<cell line: 7>\u001b[1;34m()\u001b[0m\n\u001b[0;32m      4\u001b[0m     submit \u001b[38;5;241m=\u001b[39m \u001b[38;5;28mint\u001b[39m(\u001b[38;5;28minput\u001b[39m())\n\u001b[0;32m      5\u001b[0m     students\u001b[38;5;241m.\u001b[39mremove(submit)\n\u001b[1;32m----> 7\u001b[0m \u001b[38;5;28mprint\u001b[39m(\u001b[38;5;28;43mmin\u001b[39;49m\u001b[43m(\u001b[49m\u001b[43mstudents\u001b[49m\u001b[43m)\u001b[49m)\n\u001b[0;32m      8\u001b[0m \u001b[38;5;28mprint\u001b[39m(\u001b[38;5;28mmax\u001b[39m(students))\n",
      "\u001b[1;31mTypeError\u001b[0m: 'int' object is not callable"
     ]
    }
   ],
   "source": [
    "# 풀이 2) \n",
    "students = [i+1 for i in range(30)]\n",
    "for _ in range(28):\n",
    "    submit = int(input())\n",
    "    students.remove(submit)\n",
    "    \n",
    "print(min(students))\n",
    "print(max(students))"
   ]
  },
  {
   "cell_type": "code",
   "execution_count": null,
   "id": "292b1d0f",
   "metadata": {},
   "outputs": [],
   "source": [
    "'''\n",
    "나머지 \n",
    "\n",
    "문제 설명 \n",
    " 두 자연수 A와 B가 있을 때, A % B 는  A를 B로 나눈 나머지이다. 예를 들어, 7 14 27 38 을 3으로 나눈 나머지는 1,2,0,2이다.\n",
    " 수 10개를 입력받은 뒤, 이를 42로 나눈 나머지를 구한다. 그 다음 서로 다른 값이 몇 개 있는지 출력하는 프로그램을 작성하라. \n",
    " \n",
    "풀이 시간 : 총 5 mins\n",
    "'''"
   ]
  },
  {
   "cell_type": "code",
   "execution_count": 68,
   "id": "aadc9123",
   "metadata": {},
   "outputs": [
    {
     "name": "stdout",
     "output_type": "stream",
     "text": [
      "39\n",
      "40\n",
      "41\n",
      "42\n",
      "43\n",
      "44\n",
      "82\n",
      "83\n",
      "84\n",
      "85\n",
      "6\n"
     ]
    }
   ],
   "source": [
    "n_dic = dict()\n",
    "for n in range(10):\n",
    "    n = int(input())\n",
    "    rest = n % 42 \n",
    "    if rest not in n_dic:\n",
    "        n_dic[rest] = 0\n",
    "        n_dic[rest] += 1\n",
    "        \n",
    "print(len(n_dic))"
   ]
  },
  {
   "cell_type": "code",
   "execution_count": null,
   "id": "e29aaa7d",
   "metadata": {},
   "outputs": [],
   "source": [
    "'''\n",
    "평균 \n",
    "\n",
    "문제 설명 \n",
    "세준이는 기말고사를 망쳤다. 세준이는 점수를 조작해서 집에 가져가기로 했다. 일단 세준이는 자기 점수 중에\n",
    "최댓값을 골랐다. 이 값을 M이라고 한다. 그리고 나서 모든 점수를 점수/M*100으로 고쳤다. \n",
    "예를 들어, 세준이의 최고정이 70이고 수학점수가 50 이었으면 수학점수는 50/70*100이 되어 71.43점이 된다. \n",
    "세준이의 성적을 위의 방법대로 새로 계산했을 때, 새로운 평균을 구하는 프로그램을 작성하시오. \n",
    "\n",
    "풀이 시간 총 3 mins\n",
    "'''"
   ]
  },
  {
   "cell_type": "code",
   "execution_count": 69,
   "id": "dbccac6a",
   "metadata": {},
   "outputs": [
    {
     "name": "stdout",
     "output_type": "stream",
     "text": [
      "3\n",
      "40 80 60 \n"
     ]
    }
   ],
   "source": [
    "N = int(input())\n",
    "score = list(map(int, input().split()))"
   ]
  },
  {
   "cell_type": "code",
   "execution_count": 70,
   "id": "2bf51186",
   "metadata": {},
   "outputs": [
    {
     "ename": "TypeError",
     "evalue": "'int' object is not callable",
     "output_type": "error",
     "traceback": [
      "\u001b[1;31m---------------------------------------------------------------------------\u001b[0m",
      "\u001b[1;31mTypeError\u001b[0m                                 Traceback (most recent call last)",
      "Input \u001b[1;32mIn [70]\u001b[0m, in \u001b[0;36m<cell line: 2>\u001b[1;34m()\u001b[0m\n\u001b[0;32m      1\u001b[0m mean \u001b[38;5;241m=\u001b[39m \u001b[38;5;241m0\u001b[39m \n\u001b[0;32m      2\u001b[0m \u001b[38;5;28;01mfor\u001b[39;00m n \u001b[38;5;129;01min\u001b[39;00m \u001b[38;5;28mrange\u001b[39m(N):\n\u001b[1;32m----> 3\u001b[0m     mean \u001b[38;5;241m+\u001b[39m\u001b[38;5;241m=\u001b[39m score[n]\u001b[38;5;241m/\u001b[39m\u001b[38;5;28;43mmax\u001b[39;49m\u001b[43m(\u001b[49m\u001b[43mscore\u001b[49m\u001b[43m)\u001b[49m\u001b[38;5;241m*\u001b[39m\u001b[38;5;241m100\u001b[39m\n\u001b[0;32m      4\u001b[0m \u001b[38;5;28mprint\u001b[39m(mean\u001b[38;5;241m/\u001b[39mN)\n",
      "\u001b[1;31mTypeError\u001b[0m: 'int' object is not callable"
     ]
    }
   ],
   "source": [
    "mean = 0 \n",
    "for n in range(N):\n",
    "    mean += score[n]/max(score)*100\n",
    "    \n",
    "print(mean/N)"
   ]
  },
  {
   "cell_type": "code",
   "execution_count": null,
   "id": "d822c63b",
   "metadata": {},
   "outputs": [],
   "source": [
    "'''\n",
    "OX 퀴즈 \n",
    "\n",
    "문제 설명 \n",
    "\"OOXXOXXOOO\"와 같은 OX퀴즈의 결과가 있다. O는 문제를 맞은 것이고, X는 문제를 틀린 것이다. 문제를 맞은 경우 그 문제의 점수는 그 문제까지 연속된 O의 개수가 된다. 예를 들어, 10번 문제의 점수는 3이 된다.\n",
    "\n",
    "\"OOXXOXXOOO\"의 점수는 1+2+0+0+1+0+0+1+2+3 = 10점이다.\n",
    "\n",
    "OX퀴즈의 결과가 주어졌을 때, 점수를 구하는 프로그램을 작성하시오.\n",
    "\n",
    "풀이 시간 총 5 mins \n",
    "\n",
    "'''"
   ]
  },
  {
   "cell_type": "code",
   "execution_count": 73,
   "id": "306ad9a9",
   "metadata": {},
   "outputs": [
    {
     "name": "stdout",
     "output_type": "stream",
     "text": [
      "30\n"
     ]
    }
   ],
   "source": [
    "# 풀이 1) \n",
    "N = int(input())\n",
    "\n",
    "for n in range(N):\n",
    "    sen = input()\n",
    "    total = 0\n",
    "    score = 0\n",
    "    for s in sen:\n",
    "        if s == \"X\":\n",
    "            score = 0 \n",
    "        else:\n",
    "            score += 1 \n",
    "        total += score \n",
    "    print(total)"
   ]
  },
  {
   "cell_type": "code",
   "execution_count": null,
   "id": "28e3cea7",
   "metadata": {},
   "outputs": [],
   "source": [
    "'''\n",
    "평균은 넘겠지 \n",
    "\n",
    "문제 설명 \n",
    " 대학생 새내기들의 90%는 자신이 반에서 평균은 넘는다고 생각한다. 당신은 그들에게 슬픈 진실을 알려줘야 한다. \n",
    " \n",
    "풀이 시간 총 5:46 ~ \n",
    "\n",
    "'''"
   ]
  },
  {
   "cell_type": "code",
   "execution_count": 77,
   "id": "555dbc6f",
   "metadata": {},
   "outputs": [
    {
     "name": "stdout",
     "output_type": "stream",
     "text": [
      "40.0\n"
     ]
    }
   ],
   "source": [
    "score = [50, 50, 70, 80, 100]\n",
    "mean = sum(score)/len(score)\n",
    "cnt = 0\n",
    "for s in score:\n",
    "    if s > mean:\n",
    "        cnt += 1 \n",
    "print(round(cnt/len(score)*100 ,3))"
   ]
  },
  {
   "cell_type": "code",
   "execution_count": 79,
   "id": "ca2501bb",
   "metadata": {},
   "outputs": [
    {
     "name": "stdout",
     "output_type": "stream",
     "text": [
      "1\n",
      "3 70 90 81\n",
      "66.667 %\n"
     ]
    }
   ],
   "source": [
    "# 풀이 1) \n",
    "N = int(input())\n",
    "\n",
    "for n in range(N):\n",
    "    score = list(map(int, input().split()))\n",
    "    cnt = 0\n",
    "    for n in range(score[0]):\n",
    "        mean = sum(score[1:])/score[0]\n",
    "        if score[n+1] > mean:\n",
    "            cnt += 1\n",
    "    rate = cnt/score[0]*100\n",
    "    print(f'{rate:.3f}%')"
   ]
  },
  {
   "cell_type": "code",
   "execution_count": null,
   "id": "aff5d994",
   "metadata": {},
   "outputs": [],
   "source": []
  }
 ],
 "metadata": {
  "kernelspec": {
   "display_name": "Python 3 (ipykernel)",
   "language": "python",
   "name": "python3"
  },
  "language_info": {
   "codemirror_mode": {
    "name": "ipython",
    "version": 3
   },
   "file_extension": ".py",
   "mimetype": "text/x-python",
   "name": "python",
   "nbconvert_exporter": "python",
   "pygments_lexer": "ipython3",
   "version": "3.9.12"
  }
 },
 "nbformat": 4,
 "nbformat_minor": 5
}
