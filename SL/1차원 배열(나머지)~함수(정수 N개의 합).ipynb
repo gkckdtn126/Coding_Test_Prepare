{
 "cells": [
  {
   "cell_type": "code",
   "execution_count": 1,
   "id": "77e5733c",
   "metadata": {},
   "outputs": [
    {
     "name": "stdout",
     "output_type": "stream",
     "text": [
      "2023-02-12 16:05:00.100217\n",
      "일\n"
     ]
    }
   ],
   "source": [
    "from datetime import datetime, timedelta\n",
    "print(datetime.today())\n",
    "w =datetime.today().weekday()\n",
    "\n",
    "if w == 0:\n",
    "    result='월'\n",
    "elif w == 1:\n",
    "    result='화'    \n",
    "elif w == 2 :\n",
    "    result='수'\n",
    "elif w == 3:\n",
    "    result='목'\n",
    "elif w == 4:\n",
    "    result='금'\n",
    "elif w == 5:\n",
    "    result='토'\n",
    "elif w == 6:\n",
    "    result='일'\n",
    "print(result)"
   ]
  },
  {
   "cell_type": "markdown",
   "id": "deb8854e",
   "metadata": {},
   "source": [
    "# 나머지"
   ]
  },
  {
   "cell_type": "code",
   "execution_count": 25,
   "id": "244bdfd2",
   "metadata": {},
   "outputs": [
    {
     "name": "stdout",
     "output_type": "stream",
     "text": [
      "42\n",
      "84\n",
      "252\n",
      "420\n",
      "840\n",
      "126\n",
      "42\n",
      "84\n",
      "420\n",
      "126\n",
      "1\n"
     ]
    }
   ],
   "source": [
    "n = []\n",
    "for _ in range(10):\n",
    "    a = int(input())\n",
    "    result = a % 42\n",
    "    n.append(result)\n",
    "n=set(n)             # set함수는 중복을 제거하기 위한 필터역할을 해준다.\n",
    "print(len(n))"
   ]
  },
  {
   "cell_type": "markdown",
   "id": "a9069090",
   "metadata": {},
   "source": [
    "# 평균"
   ]
  },
  {
   "cell_type": "code",
   "execution_count": 44,
   "id": "3625d568",
   "metadata": {},
   "outputs": [
    {
     "name": "stdout",
     "output_type": "stream",
     "text": [
      "3\n",
      "10 20 30\n",
      "66.66666666666667\n"
     ]
    }
   ],
   "source": [
    "n = int(input())\n",
    "\n",
    "t_l = list(map(int, input().split()))\n",
    "\n",
    "max_score = max(t_l)\n",
    "\n",
    "new_score = []\n",
    "\n",
    "\n",
    "for score in t_l:\n",
    "    new_score.append(score/max_score*100)\n",
    "    \n",
    "    \n",
    "print(sum(new_score)/n)    "
   ]
  },
  {
   "cell_type": "markdown",
   "id": "85b8afc2",
   "metadata": {},
   "source": [
    "# OX퀴즈(도저히 안풀리길래 풀이 확인 참조)"
   ]
  },
  {
   "cell_type": "code",
   "execution_count": 46,
   "id": "677b5955",
   "metadata": {},
   "outputs": [
    {
     "name": "stdout",
     "output_type": "stream",
     "text": [
      "5\n",
      "OOXXOXXOOO\n",
      "10\n",
      "OOXXOOXXOO\n",
      "9\n",
      "OXOXOXOXOXOXOX\n",
      "7\n",
      "OOOOOOOOOO\n",
      "55\n",
      "OOOOXOOOOXOOOOX\n",
      "30\n"
     ]
    }
   ],
   "source": [
    "num = int(input())\n",
    "for test_case in range(num):\n",
    "    test_case = list(input())\n",
    "    score = 0\n",
    "    sum_score = 0           # 새로운 OX리스트를 입력 받으면 점수 합계를 리셋한다.\n",
    "    for ox in test_case:\n",
    "        if ox == 'O':\n",
    "            score += 1      # 'O'가 연속되면 점수가 1점씩 커진다.\n",
    "            sum_score += score \n",
    "        else:\n",
    "            score = 0\n",
    "    print(sum_score)        # print의 위치가 두번째 for문에 있어야한다."
   ]
  },
  {
   "cell_type": "markdown",
   "id": "75052dfe",
   "metadata": {},
   "source": [
    "# 평균은 넘겠지"
   ]
  },
  {
   "cell_type": "code",
   "execution_count": 53,
   "id": "870adf77",
   "metadata": {},
   "outputs": [
    {
     "name": "stdout",
     "output_type": "stream",
     "text": [
      "5\n",
      "5 50 50 70 80 100\n",
      "40.000%\n",
      "7 100 95 90 80 70 60 50\n",
      "57.143%\n",
      "3 70 90 80\n",
      "33.333%\n",
      "3 70 90 81\n",
      "66.667%\n",
      "9 100\n",
      "11.111%\n"
     ]
    }
   ],
   "source": [
    "test_num = int(input())\n",
    "\n",
    "for testcase in range(test_num):\n",
    "    n = list(map(int,input().split()))\n",
    "    avg = sum(n[1:])/n[0]\n",
    "    cnt = 0\n",
    "    for testcase in n[1:]:\n",
    "        if avg < testcase :\n",
    "            cnt +=1\n",
    "    rate = cnt/n[0] * 100\n",
    "    print(f'{rate:.3f}%')\n",
    "    "
   ]
  },
  {
   "cell_type": "markdown",
   "id": "74e10051",
   "metadata": {},
   "source": [
    "# 정수 N개의 합"
   ]
  },
  {
   "cell_type": "code",
   "execution_count": 54,
   "id": "b8a06ceb",
   "metadata": {},
   "outputs": [],
   "source": [
    "def solve(a):\n",
    "    return sum(a)\n"
   ]
  },
  {
   "cell_type": "code",
   "execution_count": null,
   "id": "4e213422",
   "metadata": {},
   "outputs": [],
   "source": []
  }
 ],
 "metadata": {
  "kernelspec": {
   "display_name": "Python 3 (ipykernel)",
   "language": "python",
   "name": "python3"
  },
  "language_info": {
   "codemirror_mode": {
    "name": "ipython",
    "version": 3
   },
   "file_extension": ".py",
   "mimetype": "text/x-python",
   "name": "python",
   "nbconvert_exporter": "python",
   "pygments_lexer": "ipython3",
   "version": "3.9.13"
  }
 },
 "nbformat": 4,
 "nbformat_minor": 5
}
