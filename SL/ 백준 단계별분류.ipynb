{
 "cells": [
  {
   "cell_type": "code",
   "execution_count": 27,
   "id": "363028d1",
   "metadata": {
    "scrolled": true
   },
   "outputs": [
    {
     "name": "stdout",
     "output_type": "stream",
     "text": [
      "2023-02-08 21:07:58.950617\n",
      "수\n"
     ]
    }
   ],
   "source": [
    "from datetime import datetime, timedelta\n",
    "print(datetime.today())\n",
    "w =datetime.today().weekday()\n",
    "\n",
    "if w == 0:\n",
    "    result='월'\n",
    "elif w == 1:\n",
    "    result='화'    \n",
    "elif w == 2 :\n",
    "    result='수'\n",
    "elif w == 3:\n",
    "    result='목'\n",
    "elif w == 4:\n",
    "    result='금'\n",
    "elif w == 5:\n",
    "    result='토'\n",
    "elif w == 6:\n",
    "    result='일'\n",
    "print(result)"
   ]
  },
  {
   "cell_type": "markdown",
   "id": "dd1fabb9",
   "metadata": {},
   "source": [
    "백준 2480번 주사위 세개 https://www.acmicpc.net/problem/2480"
   ]
  },
  {
   "cell_type": "code",
   "execution_count": 2,
   "id": "ac023fde",
   "metadata": {},
   "outputs": [
    {
     "name": "stdout",
     "output_type": "stream",
     "text": [
      "3 3 6\n",
      "1300\n"
     ]
    }
   ],
   "source": [
    "a, b, c = map(int,input().split())\n",
    "\n",
    "if a == b and b == c :\n",
    "    result = 10000+(a)*1000\n",
    "elif a == b or b == c or a == c:\n",
    "    if a == b:\n",
    "        result = 1000 + a * 100\n",
    "    elif b == c:\n",
    "        result = 1000 + b * 100\n",
    "    else:\n",
    "        result = 1000 + a * 100\n",
    "else : \n",
    "    x = max(a,b,c)\n",
    "    result = x * 100\n",
    "print(result)    "
   ]
  },
  {
   "cell_type": "markdown",
   "id": "80048435",
   "metadata": {},
   "source": [
    "백준 2739번 구구단 https://www.acmicpc.net/problem/2739"
   ]
  },
  {
   "cell_type": "code",
   "execution_count": 10,
   "id": "64657681",
   "metadata": {},
   "outputs": [
    {
     "name": "stdout",
     "output_type": "stream",
     "text": [
      "2\n",
      "2 * 1 = 2\n",
      "2 * 2 = 4\n",
      "2 * 3 = 6\n",
      "2 * 4 = 8\n",
      "2 * 5 = 10\n",
      "2 * 6 = 12\n",
      "2 * 7 = 14\n",
      "2 * 8 = 16\n",
      "2 * 9 = 18\n"
     ]
    }
   ],
   "source": [
    "N = int(input())\n",
    "i=1\n",
    "for i in range(1,10):\n",
    "   \n",
    "    result= (f'{N} * {i} = {N*i}')\n",
    "    i += 1\n",
    "    print(result)"
   ]
  },
  {
   "cell_type": "markdown",
   "id": "9c5394e2",
   "metadata": {},
   "source": [
    "백준 10950번 A+B-3 https://www.acmicpc.net/problem/10950"
   ]
  },
  {
   "cell_type": "code",
   "execution_count": null,
   "id": "1c1a86cf",
   "metadata": {},
   "outputs": [],
   "source": [
    "T = int(input()) # 테스트 케이스 개수 T를 입력받음.\n",
    "\n",
    "for _ in range(T):   # T만큼 반복\n",
    "    a, b = map(int,input().split())\n",
    "    print(a + b)\n"
   ]
  },
  {
   "cell_type": "markdown",
   "id": "fcdfe687",
   "metadata": {},
   "source": [
    "백준 8393번 합 https://www.acmicpc.net/problem/8393"
   ]
  },
  {
   "cell_type": "code",
   "execution_count": 35,
   "id": "3cda2466",
   "metadata": {},
   "outputs": [
    {
     "name": "stdout",
     "output_type": "stream",
     "text": [
      "3\n",
      "6\n"
     ]
    }
   ],
   "source": [
    "n = int(input()) \n",
    "sum = 0              # 변수에 0을 지정\n",
    "for i in range(n+1): # 1부터 n까지\n",
    "    sum = sum + i    # sum = sum(0) + i만큼 더한 값\n",
    "print(sum)\n",
    "        "
   ]
  },
  {
   "cell_type": "markdown",
   "id": "a64a9ae3",
   "metadata": {},
   "source": [
    "백준 25304번 영수증 https://www.acmicpc.net/problem/25304"
   ]
  },
  {
   "cell_type": "code",
   "execution_count": 40,
   "id": "2b786c12",
   "metadata": {},
   "outputs": [
    {
     "name": "stdout",
     "output_type": "stream",
     "text": [
      "260000\n",
      "4\n",
      "20000 5\n",
      "30000 2\n",
      "10000 6\n",
      "5000 8\n",
      "Yes\n"
     ]
    }
   ],
   "source": [
    "x = int(input())\n",
    "n = int(input())\n",
    "sum = 0\n",
    "for i in range(n):\n",
    "    a, b = map(int,input().split())\n",
    "    sum = sum + a * b  # sum += a * b 와 같음. but, sum + = a * b는 틀림.\n",
    "    \n",
    "if sum == x :\n",
    "    print('Yes')\n",
    "else:\n",
    "    print('No')\n"
   ]
  },
  {
   "cell_type": "code",
   "execution_count": null,
   "id": "e76f5904",
   "metadata": {},
   "outputs": [],
   "source": []
  },
  {
   "cell_type": "code",
   "execution_count": 1,
   "id": "cdbc132c",
   "metadata": {},
   "outputs": [
    {
     "name": "stdout",
     "output_type": "stream",
     "text": [
      "2023-02-09 19:08:58.095430\n",
      "목\n"
     ]
    }
   ],
   "source": [
    "from datetime import datetime, timedelta\n",
    "print(datetime.today())\n",
    "w =datetime.today().weekday()\n",
    "\n",
    "if w == 0:\n",
    "    result='월'\n",
    "elif w == 1:\n",
    "    result='화'    \n",
    "elif w == 2 :\n",
    "    result='수'\n",
    "elif w == 3:\n",
    "    result='목'\n",
    "elif w == 4:\n",
    "    result='금'\n",
    "elif w == 5:\n",
    "    result='토'\n",
    "elif w == 6:\n",
    "    result='일'\n",
    "print(result)"
   ]
  },
  {
   "cell_type": "markdown",
   "id": "d3349f42",
   "metadata": {},
   "source": [
    "백준 15552번  빠른 A + B  https://www.acmicpc.net/problem/15552"
   ]
  },
  {
   "cell_type": "code",
   "execution_count": null,
   "id": "8ba2395c",
   "metadata": {},
   "outputs": [],
   "source": [
    "import sys\n",
    "\n",
    "t = int(sys.stdin.readline())\n",
    "for i in range(t):\n",
    "    a, b = map(int, sys.stdin.readline().split())\n",
    "    print(a+b)    "
   ]
  },
  {
   "cell_type": "markdown",
   "id": "55c2729f",
   "metadata": {},
   "source": [
    "백준 11021번  A + B -7  https://www.acmicpc.net/problem/11021"
   ]
  },
  {
   "cell_type": "code",
   "execution_count": 4,
   "id": "c039821a",
   "metadata": {},
   "outputs": [
    {
     "name": "stdout",
     "output_type": "stream",
     "text": [
      "5\n",
      "1 1\n",
      "Case #1: 2\n",
      "2 3\n",
      "Case #2: 5\n",
      "3 4\n",
      "Case #3: 7\n",
      "9 8\n",
      "Case #4: 17\n",
      "5 2\n",
      "Case #5: 7\n"
     ]
    }
   ],
   "source": [
    "t = int(input())\n",
    "\n",
    "for x in range(1,t+1):\n",
    "    a,b = map(int,input().split())\n",
    "    result = f'Case #{x}: {a + b}'\n",
    "    print(result)            "
   ]
  },
  {
   "cell_type": "markdown",
   "id": "bea2d9b1",
   "metadata": {},
   "source": [
    "백준 11022번 A+B - 8 https://www.acmicpc.net/problem/11022"
   ]
  },
  {
   "cell_type": "code",
   "execution_count": 5,
   "id": "ef81cba6",
   "metadata": {},
   "outputs": [
    {
     "name": "stdout",
     "output_type": "stream",
     "text": [
      "5\n",
      "1 1\n",
      "Case #1: 1 + 1 = 2\n",
      "2 3\n",
      "Case #2: 2 + 3 = 5\n",
      "3 4\n",
      "Case #3: 3 + 4 = 7\n",
      "9 8\n",
      "Case #4: 9 + 8 = 17\n",
      "5 2\n",
      "Case #5: 5 + 2 = 7\n"
     ]
    }
   ],
   "source": [
    "t = int(input())\n",
    "\n",
    "for x in range(1,t+1):\n",
    "    a, b = map(int,input().split())\n",
    "    print(f'Case #{x}: {a} + {b} = {a + b}')"
   ]
  },
  {
   "cell_type": "markdown",
   "id": "46fa059e",
   "metadata": {},
   "source": [
    "백준 2438번 별 찍기 -1  https://www.acmicpc.net/problem/2438"
   ]
  },
  {
   "cell_type": "code",
   "execution_count": 10,
   "id": "962bfeeb",
   "metadata": {},
   "outputs": [
    {
     "name": "stdout",
     "output_type": "stream",
     "text": [
      "5\n",
      "*\n",
      "**\n",
      "***\n",
      "****\n",
      "*****\n"
     ]
    }
   ],
   "source": [
    "n = int(input())\n",
    "\n",
    "for i in range(0,n):\n",
    "    i += 1\n",
    "    print('*' * i)\n",
    "    "
   ]
  },
  {
   "cell_type": "code",
   "execution_count": 13,
   "id": "f0e1a48f",
   "metadata": {},
   "outputs": [
    {
     "name": "stdout",
     "output_type": "stream",
     "text": [
      "5\n",
      "*\n",
      "**\n",
      "***\n",
      "****\n",
      "*****\n"
     ]
    }
   ],
   "source": [
    "n= int(input())\n",
    "                                            #range(0,5) = 0 1 2 3 4 \n",
    "for i in range(1,n+1):                      # range (1,6) = 1 2 3 4 5 \n",
    "    print('*'*i)                            # 결국 둘 다 반복문을 5회 돌리는 건데 레인지 범위값을 어떻게 넣는냐의 차이에요\n",
    "     \n",
    "    "
   ]
  },
  {
   "cell_type": "markdown",
   "id": "68486c9e",
   "metadata": {},
   "source": [
    "백준 2439번 별 찍기 -2 https://www.acmicpc.net/problem/2439"
   ]
  },
  {
   "cell_type": "code",
   "execution_count": 22,
   "id": "5ce3fb5e",
   "metadata": {},
   "outputs": [
    {
     "name": "stdout",
     "output_type": "stream",
     "text": [
      "5\n",
      "    *\n",
      "   **\n",
      "  ***\n",
      " ****\n",
      "*****\n"
     ]
    }
   ],
   "source": [
    "n = int(input())\n",
    "\n",
    "for i in range(0,n):\n",
    "    star = '*' * (i + 1)\n",
    "    print(star.rjust(n))"
   ]
  },
  {
   "cell_type": "code",
   "execution_count": 16,
   "id": "71d32e4c",
   "metadata": {},
   "outputs": [
    {
     "name": "stdout",
     "output_type": "stream",
     "text": [
      "5\n",
      "      \n",
      "     *\n",
      "    **\n",
      "   ***\n",
      "  ****\n",
      " *****\n"
     ]
    }
   ],
   "source": [
    "# 같은 문제 \n",
    "n = int(input())\n",
    "for i in range(0,n+1):\n",
    "    print(('*' * i).rjust(n+1))"
   ]
  },
  {
   "cell_type": "code",
   "execution_count": 18,
   "id": "4b2b43ad",
   "metadata": {},
   "outputs": [
    {
     "name": "stdout",
     "output_type": "stream",
     "text": [
      "5\n",
      "\n",
      "*\n",
      "**\n",
      "***\n",
      "****\n",
      "*****\n"
     ]
    }
   ],
   "source": [
    "# 비슷한 문제\n",
    "n = int(input())\n",
    "for i in range(0,n+1):\n",
    "    print('*' * i)"
   ]
  },
  {
   "cell_type": "code",
   "execution_count": null,
   "id": "d9420bd3",
   "metadata": {
    "scrolled": true
   },
   "outputs": [],
   "source": []
  },
  {
   "cell_type": "code",
   "execution_count": 1,
   "id": "41ea494c",
   "metadata": {},
   "outputs": [
    {
     "name": "stdout",
     "output_type": "stream",
     "text": [
      "2023-02-11 17:33:32.598086\n",
      "토\n"
     ]
    }
   ],
   "source": [
    "from datetime import datetime, timedelta\n",
    "print(datetime.today())\n",
    "w =datetime.today().weekday()\n",
    "\n",
    "if w == 0:\n",
    "    result='월'\n",
    "elif w == 1:\n",
    "    result='화'    \n",
    "elif w == 2 :\n",
    "    result='수'\n",
    "elif w == 3:\n",
    "    result='목'\n",
    "elif w == 4:\n",
    "    result='금'\n",
    "elif w == 5:\n",
    "    result='토'\n",
    "elif w == 6:\n",
    "    result='일'\n",
    "print(result)"
   ]
  },
  {
   "cell_type": "markdown",
   "id": "c8847113",
   "metadata": {},
   "source": [
    "백준 10807번 개수세기    https://www.acmicpc.net/problem/10807"
   ]
  },
  {
   "cell_type": "code",
   "execution_count": 2,
   "id": "fe7ecd83",
   "metadata": {},
   "outputs": [
    {
     "name": "stdout",
     "output_type": "stream",
     "text": [
      "11\n",
      "1 4 1 2 4 2 4 2 3 4 4\n",
      "2\n",
      "3\n"
     ]
    }
   ],
   "source": [
    "n = int(input())\n",
    "a = list(map(int,input(). split()))\n",
    "v = int(input())\n",
    "c = 0\n",
    "\n",
    "for i in a:\n",
    "    if i == v :\n",
    "        c += 1\n",
    "print(c)\n",
    "    "
   ]
  },
  {
   "cell_type": "markdown",
   "id": "36409afc",
   "metadata": {},
   "source": [
    "백준 10871번 X보다 작은 수  https://www.acmicpc.net/problem/10871"
   ]
  },
  {
   "cell_type": "code",
   "execution_count": 19,
   "id": "d1a70569",
   "metadata": {},
   "outputs": [
    {
     "name": "stdout",
     "output_type": "stream",
     "text": [
      "10 5\n",
      "1 10 4 9 2 3 8 5 7 6\n",
      "1 4 2 3 "
     ]
    }
   ],
   "source": [
    "n, x = map(int,input().split())\n",
    "a = list(map(int,input().split()))\n",
    "         \n",
    "for i in a:\n",
    "    if i < x :\n",
    "        print(i, end=\" \")   # 일반적으로 줄단위로 출력되나, end를 한 칸 공백으로 설정하기 위해 end=\" \"를 작성하면 답을 구할 수 있다."
   ]
  },
  {
   "cell_type": "markdown",
   "id": "3194037a",
   "metadata": {},
   "source": [
    "백준 10818번 최소, 최대   https://www.acmicpc.net/problem/10818"
   ]
  },
  {
   "cell_type": "code",
   "execution_count": 20,
   "id": "4a3d99dd",
   "metadata": {},
   "outputs": [
    {
     "name": "stdout",
     "output_type": "stream",
     "text": [
      "5\n",
      "20 10 35 30 7\n",
      "7 35\n"
     ]
    }
   ],
   "source": [
    "n = map(int,input().split())\n",
    "i = list(map(int,input().split()))\n",
    "\n",
    "print(min(i),max(i))"
   ]
  },
  {
   "cell_type": "markdown",
   "id": "6de27549",
   "metadata": {},
   "source": [
    "백준 2562번 최댓값  https://www.acmicpc.net/problem/2562"
   ]
  },
  {
   "cell_type": "code",
   "execution_count": 33,
   "id": "1538f0a2",
   "metadata": {},
   "outputs": [
    {
     "name": "stdout",
     "output_type": "stream",
     "text": [
      "3\n",
      "29\n",
      "38\n",
      "12\n",
      "57\n",
      "74\n",
      "40\n",
      "85\n",
      "61\n",
      "85\n",
      "8\n"
     ]
    }
   ],
   "source": [
    "a = []\n",
    "for i in range(9):\n",
    "    i = int(input())\n",
    "    a.append(i)\n",
    "    \n",
    "print(max(a))\n",
    "print(a.index(max(a))+1)\n",
    "    "
   ]
  },
  {
   "cell_type": "markdown",
   "id": "bf97c2bc",
   "metadata": {},
   "source": [
    "백준 5597번 과제 안 내신 분..?    https://www.acmicpc.net/problem/5597"
   ]
  },
  {
   "cell_type": "code",
   "execution_count": 38,
   "id": "33585e34",
   "metadata": {},
   "outputs": [
    {
     "name": "stdout",
     "output_type": "stream",
     "text": [
      "3\n",
      "1\n",
      "4\n",
      "5\n",
      "7\n",
      "9\n",
      "6\n",
      "10\n",
      "11\n",
      "12\n",
      "13\n",
      "14\n",
      "15\n",
      "16\n",
      "17\n",
      "18\n",
      "19\n",
      "20\n",
      "21\n",
      "22\n",
      "23\n",
      "24\n",
      "25\n",
      "26\n",
      "27\n",
      "28\n",
      "29\n",
      "30\n",
      "2\n",
      "8\n"
     ]
    }
   ],
   "source": [
    "num = [i for i in range(1, 31)]\n",
    "\n",
    "for _ in range(28):\n",
    "    i = int(input())\n",
    "    num.remove(i)\n",
    "print(min(num))    \n",
    "print(max(num))"
   ]
  },
  {
   "cell_type": "code",
   "execution_count": null,
   "id": "622224e2",
   "metadata": {},
   "outputs": [],
   "source": []
  }
 ],
 "metadata": {
  "kernelspec": {
   "display_name": "Python 3 (ipykernel)",
   "language": "python",
   "name": "python3"
  },
  "language_info": {
   "codemirror_mode": {
    "name": "ipython",
    "version": 3
   },
   "file_extension": ".py",
   "mimetype": "text/x-python",
   "name": "python",
   "nbconvert_exporter": "python",
   "pygments_lexer": "ipython3",
   "version": "3.9.13"
  }
 },
 "nbformat": 4,
 "nbformat_minor": 5
}
